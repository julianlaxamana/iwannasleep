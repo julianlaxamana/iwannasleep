{
 "cells": [
  {
   "cell_type": "code",
   "execution_count": 1,
   "id": "c850aa74",
   "metadata": {},
   "outputs": [],
   "source": [
    "import sqlite3\n",
    "import pandas as pd"
   ]
  },
  {
   "cell_type": "code",
   "execution_count": 2,
   "id": "c177b5aa",
   "metadata": {},
   "outputs": [],
   "source": [
    "data = {\n",
    "    'title': ['Inception', 'Interstellar', 'The Matrix'],\n",
    "    'year': [2010, 2014, 1999],\n",
    "    'score': [8.8, 8.6, 8.7]\n",
    "}\n",
    "\n",
    "df = pd.DataFrame(data)"
   ]
  },
  {
   "cell_type": "code",
   "execution_count": 3,
   "id": "69a2d567",
   "metadata": {},
   "outputs": [],
   "source": [
    "# Create or connect to a SQLite database\n",
    "conn = sqlite3.connect('movies.db')\n",
    "\n",
    "# Save the DataFrame to a table named 'movies'\n",
    "df.to_sql('movies', conn, if_exists='replace', index=False)\n",
    "\n",
    "# Save the DataFrame to a table named 'movies'\n",
    "df.to_sql('movies2', conn, if_exists='replace', index=False)\n",
    "\n",
    "# Optional: Close the connection\n",
    "conn.close()"
   ]
  },
  {
   "cell_type": "code",
   "execution_count": 4,
   "id": "e71cae7e",
   "metadata": {},
   "outputs": [
    {
     "name": "stdout",
     "output_type": "stream",
     "text": [
      "          title  year  score\n",
      "0     Inception  2010    8.8\n",
      "1  Interstellar  2014    8.6\n",
      "2    The Matrix  1999    8.7\n"
     ]
    }
   ],
   "source": [
    "# Reconnect and read the table back into a DataFrame\n",
    "conn = sqlite3.connect('movies.db')\n",
    "df_loaded = pd.read_sql('SELECT * FROM movies', conn)\n",
    "print(df_loaded)\n",
    "conn.close()\n"
   ]
  },
  {
   "cell_type": "code",
   "execution_count": 5,
   "id": "bb34fd0e",
   "metadata": {},
   "outputs": [
    {
     "name": "stdout",
     "output_type": "stream",
     "text": [
      "2025-04-29 06:14:04 PM\n"
     ]
    }
   ],
   "source": [
    "import datetime\n",
    "# Prepare metadata\n",
    "timestamp = datetime.datetime.now().strftime(\"%Y-%m-%d %I:%M:%S %p\")\n",
    "\n",
    "print(timestamp)"
   ]
  },
  {
   "cell_type": "code",
   "execution_count": null,
   "id": "a04086cb",
   "metadata": {},
   "outputs": [
    {
     "name": "stdout",
     "output_type": "stream",
     "text": [
      "Tables in the database:\n",
      "- 6a383948_111d_4977_b883_9f72e32a1f8c\n",
      "- metadata\n",
      "\n",
      "--- Contents of table: 6a383948_111d_4977_b883_9f72e32a1f8c ---\n"
     ]
    },
    {
     "data": {
      "text/html": [
       "<div>\n",
       "<style scoped>\n",
       "    .dataframe tbody tr th:only-of-type {\n",
       "        vertical-align: middle;\n",
       "    }\n",
       "\n",
       "    .dataframe tbody tr th {\n",
       "        vertical-align: top;\n",
       "    }\n",
       "\n",
       "    .dataframe thead th {\n",
       "        text-align: right;\n",
       "    }\n",
       "</style>\n",
       "<table border=\"1\" class=\"dataframe\">\n",
       "  <thead>\n",
       "    <tr style=\"text-align: right;\">\n",
       "      <th></th>\n",
       "      <th>time</th>\n",
       "      <th>pressure</th>\n",
       "      <th>depth</th>\n",
       "    </tr>\n",
       "  </thead>\n",
       "  <tbody>\n",
       "    <tr>\n",
       "      <th>0</th>\n",
       "      <td>1000</td>\n",
       "      <td>993.90</td>\n",
       "      <td>-0.19</td>\n",
       "    </tr>\n",
       "    <tr>\n",
       "      <th>1</th>\n",
       "      <td>1100</td>\n",
       "      <td>994.02</td>\n",
       "      <td>-0.23</td>\n",
       "    </tr>\n",
       "    <tr>\n",
       "      <th>2</th>\n",
       "      <td>1200</td>\n",
       "      <td>993.85</td>\n",
       "      <td>-0.17</td>\n",
       "    </tr>\n",
       "  </tbody>\n",
       "</table>\n",
       "</div>"
      ],
      "text/plain": [
       "   time pressure  depth\n",
       "0  1000   993.90  -0.19\n",
       "1  1100   994.02  -0.23\n",
       "2  1200   993.85  -0.17"
      ]
     },
     "metadata": {},
     "output_type": "display_data"
    },
    {
     "name": "stdout",
     "output_type": "stream",
     "text": [
      "\n",
      "--- Contents of table: metadata ---\n"
     ]
    },
    {
     "data": {
      "text/html": [
       "<div>\n",
       "<style scoped>\n",
       "    .dataframe tbody tr th:only-of-type {\n",
       "        vertical-align: middle;\n",
       "    }\n",
       "\n",
       "    .dataframe tbody tr th {\n",
       "        vertical-align: top;\n",
       "    }\n",
       "\n",
       "    .dataframe thead th {\n",
       "        text-align: right;\n",
       "    }\n",
       "</style>\n",
       "<table border=\"1\" class=\"dataframe\">\n",
       "  <thead>\n",
       "    <tr style=\"text-align: right;\">\n",
       "      <th></th>\n",
       "      <th>table_name</th>\n",
       "      <th>timestamp</th>\n",
       "      <th>image</th>\n",
       "    </tr>\n",
       "  </thead>\n",
       "  <tbody>\n",
       "    <tr>\n",
       "      <th>0</th>\n",
       "      <td>6a383948_111d_4977_b883_9f72e32a1f8c</td>\n",
       "      <td>2025-04-29 06:13:41 PM</td>\n",
       "      <td>b'\\x89PNG\\r\\n\\x1a\\n\\x00\\x00\\x00\\rIHDR\\x00\\x00\\...</td>\n",
       "    </tr>\n",
       "  </tbody>\n",
       "</table>\n",
       "</div>"
      ],
      "text/plain": [
       "                             table_name               timestamp  \\\n",
       "0  6a383948_111d_4977_b883_9f72e32a1f8c  2025-04-29 06:13:41 PM   \n",
       "\n",
       "                                               image  \n",
       "0  b'\\x89PNG\\r\\n\\x1a\\n\\x00\\x00\\x00\\rIHDR\\x00\\x00\\...  "
      ]
     },
     "metadata": {},
     "output_type": "display_data"
    }
   ],
   "source": [
    "import sqlite3\n",
    "import pandas as pd\n",
    "\n",
    "# Connect to your SQLite database\n",
    "conn = sqlite3.connect(\"database/drone_data.db\")\n",
    "cursor = conn.cursor()\n",
    "\n",
    "# 1. List all tables in the database\n",
    "cursor.execute(\"SELECT name FROM sqlite_master WHERE type='table';\")\n",
    "tables = cursor.fetchall()\n",
    "print(\"Tables in the database:\")\n",
    "for t in tables:\n",
    "    print(\"-\", t[0])  # t is a tuple like ('table_name',)\n",
    "\n",
    "# 2. Read contents of each table\n",
    "for t in tables:\n",
    "    table_name = t[0]\n",
    "    print(f\"\\n--- Contents of table: {table_name} ---\")\n",
    "    df = pd.read_sql_query(f\"SELECT * FROM '{table_name}'\", conn)\n",
    "    display(df)  # Show only the first few rows\n"
   ]
  }
 ],
 "metadata": {
  "kernelspec": {
   "display_name": "engren",
   "language": "python",
   "name": "python3"
  },
  "language_info": {
   "codemirror_mode": {
    "name": "ipython",
    "version": 3
   },
   "file_extension": ".py",
   "mimetype": "text/x-python",
   "name": "python",
   "nbconvert_exporter": "python",
   "pygments_lexer": "ipython3",
   "version": "3.8.10"
  }
 },
 "nbformat": 4,
 "nbformat_minor": 5
}
